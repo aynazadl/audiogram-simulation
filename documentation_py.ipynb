{
 "cells": [
  {
   "cell_type": "markdown",
   "id": "446a89b9",
   "metadata": {},
   "source": [
    "## Execution des libraries"
   ]
  },
  {
   "cell_type": "code",
   "execution_count": null,
   "id": "e81095c7",
   "metadata": {},
   "outputs": [],
   "source": [
    "import sys\n",
    "import random\n",
    "import pandas as pd\n",
    "import matplotlib.pyplot as plt\n",
    "import numpy \n",
    "import matplotlib.ticker as ticker\n",
    "import cs\n",
    "import seaborn as sns\n",
    "from IPython.core.interactiveshell import InteractiveShell\n",
    "InteractiveShell.ast_node_interactivity = \"all\""
   ]
  },
  {
   "cell_type": "markdown",
   "id": "051fc172",
   "metadata": {},
   "source": [
    "## Le fonction nextRandomValue\n",
    "#### il Produit le premier seuil random  \n",
    "#### le input de ce fonction est peviousThreshold qui prends une valeur par hasard entre 0 et 90 de multiple 5\n",
    "#### on définit des limits pour les suivantes seuils random avec le min 0 et le max 90 de multiple 5\n",
    "#### le output de ce fonctionest nextValue qui donne suivante seuil random par rapport les limites et premier seuil"
   ]
  },
  {
   "cell_type": "code",
   "execution_count": null,
   "id": "8aa825c5",
   "metadata": {},
   "outputs": [],
   "source": [
    "def nextRandomValue(previousThreshold): \n",
    "    diffmax=25\n",
    "    lowerLimit=max(0, previousThreshold - diffmax)\n",
    "    upperLimit=min(95, previousThreshold + diffmax)\n",
    "    nextValue = random.randrange(lowerLimit, upperLimit, 5) \n",
    "    return nextValue"
   ]
  },
  {
   "cell_type": "markdown",
   "id": "586bb49b",
   "metadata": {},
   "source": [
    "## Création un nouvel audiogram\n",
    "#### il définit premier audiogramme random avec les limites de seuil (nextRandomValue) et les frequences,\n",
    "#### le input de ce fonction est VF le vectuer de frequence qu'on va le donner apres dans le command line\n",
    "#### audiogramme au début est une vecteur vide qu'on va le remplisse avec des valeurs randoms de seuil pour produire le premier audiogramme, avec \"append\" on joint tous les seuils randoms produit pour obtenir l'audigrame,\n",
    "#### on trouve les seuils randoms avec le fonction de \"nextrandomvalue\" pour toutes les frequences \"VF\",\n",
    "#### le output de ce fonction est audiogram qui donne le premier audigramme avec ses parametres de seuil et frequence   "
   ]
  },
  {
   "cell_type": "code",
   "execution_count": null,
   "id": "2c91d615",
   "metadata": {},
   "outputs": [],
   "source": [
    "def nouvelAudiogram(VF):\n",
    "    vectorFrequency=VF\n",
    "    previous = random.randrange(0, 95, 5)\n",
    "    audiogram = [] \n",
    "    audiogram.append(previous) \n",
    "    for cpt in range(len(VF)-1):\n",
    "        nextValue = nextRandomValue(previous)\n",
    "        audiogram.append(nextValue)\n",
    "        previous = nextValue\n",
    "    return(audiogram)"
   ]
  },
  {
   "cell_type": "markdown",
   "id": "2a541c7c",
   "metadata": {},
   "source": [
    "## Le fonction differenceEntreDeuxAudiogrammes\n",
    "#### il définit la difference entre le premier audiogramme random et le deuixieme\n",
    "#### le input de ce fonction est les 2 audiogrammes \n",
    "#### score diff est le minimum difference entre 2  audiogrammes qui peut etre 0\n",
    "#### On calcule un score de différence basé sur la corrélation\n",
    "#### on transforme les coefficients de correlations (1 0 -1) à (0 50 100)\n",
    "#### score diff prends les valeurs de diagnal de matrice coef correlations transformés \n",
    "#### le output de ce fonction est la valeur de correlations entre 2 audigrammes "
   ]
  },
  {
   "cell_type": "code",
   "execution_count": null,
   "id": "fb7c3540",
   "metadata": {},
   "outputs": [],
   "source": [
    "def differenceEntreDeuxAudiogrammes(audio1, audio2):\n",
    "    scoreDif = 0 \n",
    "    matrice = ((numpy.corrcoef(audio1, audio2)*(-1)) + 1) * 50 \n",
    "    scoreDif = matrice[0,1] \n",
    "    return(scoreDif)"
   ]
  },
  {
   "cell_type": "markdown",
   "id": "e3ff8822",
   "metadata": {
    "tags": []
   },
   "source": [
    "## Le fonction creerAudiogrammeDifferent\n",
    "#### il crée un nouvel audiogramme très différent des audiogrammes présents dans dfAudiogrammes\n",
    "#### le input de ce fonction est le dfAudiogrammes,nombre audiogramme qu'on a besoin et le vecteur de frequence\n",
    "#### Pour cela, il génère nbAudiogrammesRandom audiogrammes random avec differents frequences et retourne l'audiogramme le plus différent de tous les audiogrammes présents dans dfAudiogrammes \n",
    "#### Créer une dataframe temporaire pour mettre les audiogrammes random\n",
    "#### dans le tous premier boucle on crée nbAudiogrammesRandom audiogrammes random et les insère dans la df temporaire et il trouve nbRandomAudiograms audiogrammes random\n",
    "#### comme que il crée un audiogramme random avec Using DataFrame.insert() pour ajouter un colonne après pour chacun des audiogrammes random\n",
    "#### dans le deuxième boucle avec l'input dfAudiogrammeTemp il calcul la différence moyenne avec tous les audiogrammes présents dans dfAudiogrammes\n",
    "#### On calcule les differences entre chaque audiogramme random et chaque audiogramme de dfFinale\n",
    "#### avec dfDifferences['mean'] on ajoute les moyennes\n",
    "#### [audiogramme =] il trouve l'audiogramme random le plus différent de tous les audiogrammes présents dans dfAudiogrammes\n",
    "#### le output de ce fonction est pour retourner cet audiogramme"
   ]
  },
  {
   "cell_type": "code",
   "execution_count": null,
   "id": "a7d6c751",
   "metadata": {},
   "outputs": [],
   "source": [
    "def creerAudiogrammeDifferent (dfAudiogrammes, nbAudiogrammesRandomToUse, VF):\n",
    "    dfAudiogrammesTemp=pd.DataFrame() \n",
    "    for i in range(nbAudiogrammesRandomToUse):\n",
    "        audioRandom=nouvelAudiogram(VF)\n",
    "        dfAudiogrammesTemp.insert(i, str(i), audioRandom, True) \n",
    "    dfDifferences  = pd.DataFrame()\n",
    "    for i in list (dfAudiogrammesTemp):\n",
    "        for j in list (dfAudiogrammes):\n",
    "            difference = differenceEntreDeuxAudiogrammes(dfAudiogrammesTemp.loc[:,i], dfAudiogrammes.loc[:,j])\n",
    "            dfDifferences.loc[i,j] = difference         \n",
    "    dfDifferences['mean'] = dfDifferences.mean(axis=1)\n",
    "    audiogramme = dfAudiogrammesTemp[dfDifferences['mean'].idxmax()]\n",
    "    return audiogramme"
   ]
  },
  {
   "cell_type": "markdown",
   "id": "10db2b22",
   "metadata": {},
   "source": [
    "## Boucle generale create_audiograms\n",
    "#### on cree une autre fonction pour definir les audiograms final et les tracer\n",
    "#### nbRandomAudiogramsWeWant On définit le nombre d'audiogrammes très différents qu'on veut\n",
    "#### nbRandomAudiogramsToUse On définit le nombre d'audiogrammes random à utiliser pour trouver chaque audiogramme très différent\n",
    "#### On crée la base dfFinale avec un premier audiogramme random\n",
    "#### avec le boucle for il joint les audiogrammes tres differents l'un et l'autre et les mettre dans le dfFinale l'un apres l'autre"
   ]
  },
  {
   "cell_type": "code",
   "execution_count": null,
   "id": "7eebf245",
   "metadata": {},
   "outputs": [],
   "source": [
    "def create_audiograms(nbrAudiogramsWanted,nbrAudiogramsbeUsed,VF):\n",
    "    nbRandomAudiogramsWeWant = nbrAudiogramsWanted\n",
    "    nbRandomAudiogramsToUse = nbrAudiogramsbeUsed\n",
    "    dfFinale=pd.DataFrame(nouvelAudiogram(VF))\n",
    "    for i in range (nbRandomAudiogramsWeWant):\n",
    "        audiogrammeNouveau = creerAudiogrammeDifferent(dfFinale,nbRandomAudiogramsToUse, VF)\n",
    "        dfFinale.append(audiogrammeNouveau)\n",
    "        dfFinale.insert(i + 1, str(i + 1), audiogrammeNouveau, True)\n",
    "        print(\"audiogramme \" + str(i+1))\n",
    "        dfFin=dfFinale.T\n",
    "    dfFinale_save=dfFin.to_csv('df5000.csv', mode='a',header=False) "
   ]
  },
  {
   "cell_type": "markdown",
   "id": "614fe227",
   "metadata": {},
   "source": [
    "## Le fonction main sert de point d'exécution pour tout programme\n",
    "#### sys.argv :La liste des arguments de ligne de commande passés à un script Python\n",
    "#### si on donne moin de 3 arguments il affiche rien mais il donne instruction de comment ecrire en terminal\n",
    "#### 0=nom de fichier 1=1er parametere 2=2eme parametere 3=3eme parameter \n",
    "#### num1 est le nombre d'audiogrammes très différents qu'on veut\n",
    "#### num2 est le nombre d'audiogrammes random à utiliser pour trouver chaque audiogramme très différent\n",
    "#### vec_frequences est le vecteur frequence,changer le delimiter de vecteur frequence par virgule \n",
    "#### le boucle for genere 100 fois les audiogrammes tres differents avec plusieurs valeurs de frequences en terminal\n",
    "#### et le condition if contrôle l'exécution du code"
   ]
  },
  {
   "cell_type": "code",
   "execution_count": null,
   "id": "0a5b081c",
   "metadata": {},
   "outputs": [],
   "source": [
    "def main():\n",
    "    if len(sys.argv)<=3:\n",
    "        print(\"you have to write: %run Audiograms.py x y; x:your first value for number of audiorams wanted and  y:your second value for the number of audiograms have to be used\")\n",
    "    else:\n",
    "        num1=int(sys.argv[1]) \n",
    "        num2=int(sys.argv[2]) \n",
    "        vec_frequences = sys.argv[3].split(\",\") \n",
    "        for i in range(100):\n",
    "            create_audiograms(num1,num2,vec_frequences)           \n",
    "if (__name__==\"__main__\") : \n",
    "    main()"
   ]
  },
  {
   "cell_type": "markdown",
   "id": "55e03e26",
   "metadata": {},
   "source": [
    "### \"tous ces codes sont enregistré dans le un fichier Audiograms.py et on a juste besoin de tourner le code ci-dessous sur un fichiers comme celui-ci\"\n",
    "#### on a essayé de génerer 5000 audiogrammes mais parce que le temps de traitement est très long, on a préféré de répéter 100 fois 50 audiogrammes très différents"
   ]
  },
  {
   "cell_type": "code",
   "execution_count": null,
   "id": "97c40ec6",
   "metadata": {},
   "outputs": [],
   "source": [
    "%run Audiograms.py 50 50 125,250,500,750,1000,1500,2000,3000,4000,6000,8000,10000"
   ]
  },
  {
   "cell_type": "markdown",
   "id": "58f02ee4",
   "metadata": {},
   "source": [
    "## Nettoyage et interprétation des données"
   ]
  },
  {
   "cell_type": "code",
   "execution_count": null,
   "id": "9f21ab92",
   "metadata": {},
   "outputs": [],
   "source": [
    "df1 = pd.read_csv('Results.csv' , sep=';' , header=None)\n",
    "df1.columns = df1.iloc[0]\n",
    "df1=pd.DataFrame(df1)\n",
    "df1=df1.drop(df1.index[0])\n",
    "df1[[\"seuil_125\",\"seuil_250\",\"seuil_500\",\"seuil_750\",\"seuil_1000\",\"seuil_1500\",\"seuil_2000\",\n",
    "    \"seuil_3000\",\"seuil_4000\",\"seuil_6000\",\"seuil_8000\",\"seuil_10000\",\n",
    "    \"phoneme_correct\"]] = df1[[\"seuil_125\",\"seuil_250\",\"seuil_500\",\"seuil_750\",\"seuil_1000\",\"seuil_1500\",\"seuil_2000\",\n",
    "    \"seuil_3000\",\"seuil_4000\",\"seuil_6000\",\"seuil_8000\",\"seuil_10000\",\n",
    "    \"phoneme_correct\"]].apply(pd.to_numeric)\n",
    "# check records\n",
    "df2[\"erreurs_phono\"] = df2.erreurs_phono.str.replace(']','')\n",
    "df2[\"erreurs_phono\"] = df2.erreurs_phono.str.replace('[','')\n",
    "df2=(df2.set_index(df2.columns.drop('erreurs_phono',1).tolist()).erreurs_phono.str.split('#', expand=True).stack().reset_index().rename(columns={0:'erreurs_phono'}).loc[:, df2.columns])\n",
    "df2['mot'] =df2[['phoneme_cible', 'phoneme_reconnu']].apply(lambda x : '{}{}'.format(x[0],x[1]), axis=1)\n",
    "df2 = df2.rename({'seuil_125': '125', 'seuil_250': '250','seuil_500': '500','seuil_750': '750','seuil_1000': '1000','seuil_1500': '1500','seuil_2000': '2000','seuil_3000': '3000'\n",
    "                    ,'seuil_4000': '4000','seuil_6000': '6000','seuil_8000': '8000','seuil_10000': '10000'}, axis=1)\n",
    "df2"
   ]
  },
  {
   "cell_type": "markdown",
   "id": "dbb7af46",
   "metadata": {},
   "source": [
    "## Calculer le pourcentage d'erreur "
   ]
  },
  {
   "cell_type": "code",
   "execution_count": null,
   "id": "10f2cacf",
   "metadata": {},
   "outputs": [],
   "source": [
    "pourcentage=pd.DataFrame(100*df1.groupby(['id_audiogramme', 'phoneme_correct']).size() / df1.groupby(['id_audiogramme']).size())\n",
    "pourcentage.to_csv('pourcentage.csv') \n",
    "pourcentage=pd.read_csv('pourcentage.csv' , sep=',' , header=None)\n",
    "pourcentage.columns = pourcentage.iloc[0]\n",
    "pourcentage=pd.DataFrame(pourcentage)\n",
    "pourcentage=pourcentage.drop(pourcentage.index[0])\n",
    "pourcentage.columns=['id_audiogramme', 'phoneme_correct','pourcentage']\n",
    "df_pourcentage=pourcentage.loc[(pourcentage['pourcentage'] >50)& (pourcentage['phoneme_correct'] == '1') ]\n",
    "df_pourcentage"
   ]
  },
  {
   "cell_type": "code",
   "execution_count": null,
   "id": "fe04b82f",
   "metadata": {},
   "outputs": [],
   "source": [
    "df2=df1[df1.set_index(['id_audiogramme']).index.isin(df_pourcentage.set_index(['id_audiogramme']).index)]\n",
    "df2['mot'] =df2[['phoneme_cible', 'phoneme_reconnu']].apply(lambda x : '{}{}'.format(x[0],x[1]), axis=1)\n",
    "df2 "
   ]
  },
  {
   "cell_type": "code",
   "execution_count": null,
   "id": "bbbed0ec",
   "metadata": {},
   "outputs": [],
   "source": [
    "df_na=df2[df2.isna().any(axis=1)]\n",
    "df_na = df_na.rename({'seuil_125': '125', 'seuil_250': '250','seuil_500': '500','seuil_750': '750','seuil_1000': '1000','seuil_1500': '1500','seuil_2000': '2000','seuil_3000': '3000'\n",
    "                    ,'seuil_4000': '4000','seuil_6000': '6000','seuil_8000': '8000','seuil_10000': '10000'}, axis=1)\n",
    "df_na"
   ]
  },
  {
   "cell_type": "code",
   "execution_count": null,
   "id": "72a18c04",
   "metadata": {},
   "outputs": [],
   "source": [
    "df2[\"erreurs_phono\"] = df2.erreurs_phono.str.replace(']','')\n",
    "df2[\"erreurs_phono\"] = df2.erreurs_phono.str.replace('[','')\n",
    "df2=(df2.set_index(df2.columns.drop('erreurs_phono',1).tolist()).erreurs_phono.str.split('#', expand=True).stack().reset_index().rename(columns={0:'erreurs_phono'}).loc[:, df2.columns])\n",
    "df2['mot'] =df2[['phoneme_cible', 'phoneme_reconnu']].apply(lambda x : '{}{}'.format(x[0],x[1]), axis=1)\n",
    "df2 = df2.rename({'seuil_125': '125', 'seuil_250': '250','seuil_500': '500','seuil_750': '750','seuil_1000': '1000','seuil_1500': '1500','seuil_2000': '2000','seuil_3000': '3000'\n",
    "                    ,'seuil_4000': '4000','seuil_6000': '6000','seuil_8000': '8000','seuil_10000': '10000'}, axis=1)\n",
    "df2"
   ]
  },
  {
   "cell_type": "code",
   "execution_count": null,
   "id": "90cb943a",
   "metadata": {},
   "outputs": [],
   "source": [
    "df_count=pd.DataFrame(df2.mot.value_counts().head(48))\n",
    "df_count.to_csv('df_count.csv') \n",
    "df_count=pd.read_csv('df_count.csv' , sep=',' , header=None)\n",
    "df_count.columns = df_count.iloc[0]\n",
    "df_count=pd.DataFrame(df_count)\n",
    "df_count=df_count.drop(df_count.index[0])\n",
    "df_count.columns=['mot', 'nbr']\n",
    "mot_list = df_count[\"mot\"].tolist()\n",
    "print(mot_list)"
   ]
  },
  {
   "cell_type": "code",
   "execution_count": null,
   "id": "fdc01858",
   "metadata": {},
   "outputs": [],
   "source": [
    "motList = ['tR', 'Rs', 'dg', 'kp', 'fR', 'tp', 'vk', 'dt', 'vR', 'vp', 'nb', 'bp', 'mb', 'Rf', 'fk', 'vf', 'fp', 'nm', 'mn', 'ml', 'sf', 'bv', 'bf', 'vt', 'RS', 'sp', 'df', 'zg', 'dk', 'vg', 'vZ', 'dp', 'kt', 'mz', 'bg', 'sR', 'bR', 'Sf', 'bz', 'ng', 'dz', 'zs', 'dR', 'db', 'vz', 'fs', 'mv', 'pR', 'bd', 'zR', 'ln', 'tl', 'lm', 'nd', 'zZ', 'gk', 'dv', 'Ss', 'sk']\n",
    "df_filtered = df2[df2['mot'].isin(motList)]\n",
    "df_filtered"
   ]
  },
  {
   "cell_type": "code",
   "execution_count": null,
   "id": "4a39be87",
   "metadata": {},
   "outputs": [],
   "source": [
    "df_new=df_na[df_na.set_index(['phoneme_cible']).index.isin(df_filtered.set_index(['phoneme_cible']).index)]\n",
    "df_new"
   ]
  },
  {
   "cell_type": "code",
   "execution_count": null,
   "id": "27d2f286",
   "metadata": {},
   "outputs": [],
   "source": [
    "df_append=df_filtered.append(df_new)\n",
    "df_append"
   ]
  },
  {
   "cell_type": "code",
   "execution_count": null,
   "id": "9ecbf080",
   "metadata": {},
   "outputs": [],
   "source": [
    "df_append=df_filtered.append(df_new)\n",
    "df_append[[\"id_audiogramme\"]] = df_append[[\"id_audiogramme\"]].apply(pd.to_numeric)\n",
    "sorted_df = df_append.sort_values(by=['id_audiogramme'], ascending=True)\n",
    "sorted_df=sorted_df[['id_audiogramme', '125', '250', '500', '750',\n",
    "       '1000', '1500', '2000', '3000', '4000',\n",
    "       '6000', '8000', '10000', 'mot']]\n",
    "sorted_df"
   ]
  },
  {
   "cell_type": "code",
   "execution_count": null,
   "id": "2b516a2c",
   "metadata": {},
   "outputs": [],
   "source": [
    "df_filtered.fillna('', inplace=True)\n",
    "df_new1=(df_filtered.erreurs_phono).str.get_dummies()\n",
    "result1 = pd.concat([df_filtered, df_new1], axis=1, ignore_index=False)\n",
    "result1"
   ]
  },
  {
   "cell_type": "code",
   "execution_count": null,
   "id": "190d4ed8",
   "metadata": {},
   "outputs": [],
   "source": [
    "result1=result1[['id_audiogramme', '125', '250', '500', '750', '1000', '1500', '2000',\n",
    "       '3000', '4000', '6000', '8000', '10000',\n",
    "       '+anterieur', '+arriere', '+continu', '+coronal', '+haut', '+nasal',\n",
    "       '+sonant', '+voise', '-anterieur', '-arriere', '-continu', '-coronal',\n",
    "       '-haut', '-nasal', '-sonant', '-voise']]\n",
    "result1.columns"
   ]
  },
  {
   "cell_type": "code",
   "execution_count": null,
   "id": "a4477436",
   "metadata": {},
   "outputs": [],
   "source": [
    "df_trait=result1.melt(id_vars=['id_audiogramme', '125', '250', '500', '750', '1000', '1500', '2000',\n",
    "       '3000', '4000', '6000', '8000', '10000'], \n",
    "        var_name=\"erreur\", \n",
    "        value_name=\"binaire\")\n",
    "df_trait"
   ]
  },
  {
   "cell_type": "code",
   "execution_count": null,
   "id": "887d0610",
   "metadata": {},
   "outputs": [],
   "source": [
    "#Loading the .txt file\n",
    "df = pd.read_csv('results_df_mean.txt' , sep='/' , header=None)\n",
    "df.columns=['X1','X2','X3','X4','X5','X6','X7','X8','X9','X10','X11']\n",
    "df[['X12','X13']]=df.X11.str.split(\"[\",expand=True,)\n",
    "df[['X14','X15']]=df.X13.str.split(\"]\",expand=True,)\n",
    "df[['X16','X17']]=df.X15.str.split(\",\",expand=True,)\n",
    "df"
   ]
  },
  {
   "cell_type": "code",
   "execution_count": null,
   "id": "f6519186",
   "metadata": {},
   "outputs": [],
   "source": [
    "df.loc[df['X14'] =='ch', 'X14'] = \"S\"\n",
    "df.loc[df['X17'] =='ch', 'X17'] = \"S\"\n",
    "df.loc[df['X14'] =='j', 'X14'] = \"Z\"\n",
    "df.loc[df['X17'] =='j', 'X17'] = \"Z\"\n",
    "df.loc[df['X14'] =='r', 'X14'] = \"R\"\n",
    "df.loc[df['X17'] =='r', 'X17'] = \"R\"\n",
    "df"
   ]
  },
  {
   "cell_type": "code",
   "execution_count": null,
   "id": "b9c8ffe4",
   "metadata": {},
   "outputs": [],
   "source": [
    "df['erreur'] =df[['X14', 'X17']].apply(lambda x : '{}{}'.format(x[0],x[1]), axis=1)\n",
    "df=df[['X10','erreur']]\n",
    "df"
   ]
  },
  {
   "cell_type": "code",
   "execution_count": null,
   "id": "5e0f2a9e",
   "metadata": {},
   "outputs": [],
   "source": [
    "df.columns=['x','erreur']\n",
    "df['x']=df['x'].str.replace(r'\\(', '')\n",
    "df['x']=df['x'].str.replace(r'\\)', '')\n",
    "df"
   ]
  },
  {
   "cell_type": "code",
   "execution_count": null,
   "id": "5ebf2a67",
   "metadata": {},
   "outputs": [],
   "source": [
    "df_res= pd.read_csv('df_mean.csv' , sep=',' , header=None)\n",
    "df_res.columns = df_res.iloc[0]\n",
    "df_res=pd.DataFrame(df_res)\n",
    "df_res=df_res.drop(df_res.index[0])\n",
    "df_res.columns=['X125','X250','X500','X750','X1000','X1500','X2000','X3000','X4000','X6000','X8000','X10000']\n",
    "df_res"
   ]
  },
  {
   "cell_type": "code",
   "execution_count": null,
   "id": "09c46ac9",
   "metadata": {},
   "outputs": [],
   "source": [
    "df_res = df_res.assign(erreur = [ \"RS\", \"Rf\", \"Rs\", \"SS\", \"Sf\", \"Ss\" ,\"bR\", \"bb\" ,\"bd\", \"bf\", \"bg\" ,\"bp\" ,\"bv\",\"bz\", \"dR\" ,\"db\" ,\"dd\" ,\"df\" ,\"dg\", \"dk\",\"dp\" ,\"dt\" ,\"dv\" ,\"dz\" ,\"fR\" ,\"ff\", \"fk\", \"fp\" ,\"fs\" ,\"gg\" ,\"gk\" ,\"kk\" ,\"kp\" ,\"kt\" ,\"ll\" ,\"lm\", \"ln\", \"mb\",\"ml\" ,\"mm\" ,\"mn\" ,\"mv\" ,\"mz\" ,\"nb\" ,\"nd\" ,\"ng\", \"nm\" ,\"nn\" ,\"pR\", \"pp\" ,\"sR\" ,\"sf\" ,\"sk\" ,\"sp\", \"ss\" ,\"tR\" ,\"tl\" ,\"tp\" ,\"tt\" ,\"vR\" ,\"vZ\" ,\"vf\" ,\"vg\", \"vk\" ,\"vp\" ,\"vt\" ,\"vv\" ,\"vz\" ,\"zR\" ,\"zZ\" ,\"zg\" ,\"zs\" ,\"zz\"])\n",
    "df_res"
   ]
  },
  {
   "cell_type": "code",
   "execution_count": null,
   "id": "9687f63b",
   "metadata": {},
   "outputs": [],
   "source": [
    "pos = [8,15,47,34,29,3,7,39,49,31,25,54,16,66,58,72]\n",
    "df_res.drop(df_res.index[pos], inplace=True)\n",
    "df_res"
   ]
  },
  {
   "cell_type": "code",
   "execution_count": null,
   "id": "2347a2cb",
   "metadata": {},
   "outputs": [],
   "source": [
    "df_res=df_res.reset_index(drop=True)\n",
    "df_res"
   ]
  },
  {
   "cell_type": "code",
   "execution_count": null,
   "id": "84251cbc",
   "metadata": {},
   "outputs": [],
   "source": [
    "cols = ['X125', 'X250', 'X500',\"X750\",\"X1000\",\"X1500\",\"X2000\",\"X3000\",\"X4000\",\"X6000\",\"X8000\",\"X10000\"]\n",
    "df_res['x'] = df_res[cols].apply(lambda row: '-'.join(row.values.astype(str)), axis=1)\n",
    "df_res"
   ]
  }
 ],
 "metadata": {
  "kernelspec": {
   "display_name": "Python 3",
   "language": "python",
   "name": "python3"
  },
  "language_info": {
   "codemirror_mode": {
    "name": "ipython",
    "version": 3
   },
   "file_extension": ".py",
   "mimetype": "text/x-python",
   "name": "python",
   "nbconvert_exporter": "python",
   "pygments_lexer": "ipython3",
   "version": "3.7.10"
  }
 },
 "nbformat": 4,
 "nbformat_minor": 5
}
